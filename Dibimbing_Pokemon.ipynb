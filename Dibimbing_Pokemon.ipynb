{
  "nbformat": 4,
  "nbformat_minor": 0,
  "metadata": {
    "colab": {
      "provenance": []
    },
    "kernelspec": {
      "name": "python3",
      "display_name": "Python 3"
    },
    "language_info": {
      "name": "python"
    }
  },
  "cells": [
    {
      "cell_type": "code",
      "execution_count": null,
      "metadata": {
        "id": "EzotfSdqx48a"
      },
      "outputs": [],
      "source": [
        "import pandas as pd"
      ]
    },
    {
      "cell_type": "code",
      "source": [
        "pokemon_data = pd.read_csv(\"Pokemon.csv\")\n",
        "pokemon_data.head(50)"
      ],
      "metadata": {
        "id": "RpU0O5A-yOdc"
      },
      "execution_count": null,
      "outputs": []
    },
    {
      "cell_type": "markdown",
      "source": [
        "Pokemon Types"
      ],
      "metadata": {
        "id": "ukME3XiPk2iI"
      }
    },
    {
      "cell_type": "code",
      "source": [
        "all_types = pokemon_data[['Type 1', 'Type 2']].stack().reset_index(drop=True)\n",
        "\n",
        "# Group by type and count occurrences\n",
        "type_counts = all_types.value_counts()\n",
        "type_counts"
      ],
      "metadata": {
        "id": "xC7B3Qlg0ueR"
      },
      "execution_count": null,
      "outputs": []
    },
    {
      "cell_type": "code",
      "source": [
        "pokemon_type = pd.DataFrame(type_counts, columns=[\"Counts\"])\n",
        "pokemon_type"
      ],
      "metadata": {
        "id": "AEcoNFCub4pK"
      },
      "execution_count": null,
      "outputs": []
    },
    {
      "cell_type": "code",
      "source": [
        "import seaborn as sns\n",
        "import matplotlib.pyplot as plt"
      ],
      "metadata": {
        "id": "I2bt4xj01X92"
      },
      "execution_count": null,
      "outputs": []
    },
    {
      "cell_type": "markdown",
      "source": [
        "Pokemon Typings"
      ],
      "metadata": {
        "id": "Yq3VMnZs2vRp"
      }
    },
    {
      "cell_type": "code",
      "source": [
        "sns.barplot(data=pokemon_type, x=pokemon_type.index, y=\"Counts\")\n",
        "plt.xticks(rotation=45)\n",
        "# Add labels and title\n",
        "plt.xlabel('Type')\n",
        "plt.ylabel('Number of Pokemon')\n",
        "plt.title('Pokemon Types')"
      ],
      "metadata": {
        "id": "0qpdaKGqbpnQ"
      },
      "execution_count": null,
      "outputs": []
    },
    {
      "cell_type": "markdown",
      "source": [
        "Generations of Pokemons"
      ],
      "metadata": {
        "id": "0SVxS1nik8WA"
      }
    },
    {
      "cell_type": "code",
      "source": [
        "generation = pokemon_data.groupby(\"Generation\")\n",
        "generation.size()\n",
        "generation_data = {\n",
        "    'Generation': [1, 2, 3, 4, 5, 6],\n",
        "    'Count': [166, 106, 160, 121, 165, 82]\n",
        "}\n",
        "poke_gen = pd.DataFrame(generation_data)\n",
        "sns.barplot(data=poke_gen, x=\"Generation\", y=\"Count\")\n",
        "# Add labels and title\n",
        "plt.xlabel('Generation')\n",
        "plt.ylabel('Number of Pokemon')\n",
        "plt.title('Pokemon per Generation')"
      ],
      "metadata": {
        "id": "OwM6AFA6Vaez"
      },
      "execution_count": null,
      "outputs": []
    },
    {
      "cell_type": "code",
      "source": [
        "generation_totalstats = generation.mean()\n",
        "sns.barplot(data=generation_totalstats, x=\"Generation\", y=\"Total\")\n",
        "# Add labels and title\n",
        "plt.xlabel('Generation')\n",
        "plt.ylabel('Average Total Stats')\n",
        "plt.title('Average Stats for Each Generations')"
      ],
      "metadata": {
        "id": "LFG5NaUrr-Nf"
      },
      "execution_count": null,
      "outputs": []
    },
    {
      "cell_type": "markdown",
      "source": [
        "Pokemon with High Stats"
      ],
      "metadata": {
        "id": "6rs4BFDglAwP"
      }
    },
    {
      "cell_type": "code",
      "source": [
        "strong_poke = pokemon_data[pokemon_data['Total'] > 600]\n",
        "strong_poke"
      ],
      "metadata": {
        "id": "2csj58F_kdE9"
      },
      "execution_count": null,
      "outputs": []
    },
    {
      "cell_type": "code",
      "source": [
        "sns.barplot(data=strong_poke, x=\"Name\", y=\"Total\")\n",
        "plt.xticks(rotation=90,fontsize=6)\n",
        "# Add labels and title\n",
        "plt.xlabel('Pokemon')\n",
        "plt.ylabel('Total Stats')\n",
        "plt.title('The Strongest Pokemon Stat-wise')"
      ],
      "metadata": {
        "id": "SxB-Lmfxyd-3"
      },
      "execution_count": null,
      "outputs": []
    },
    {
      "cell_type": "markdown",
      "source": [
        "Pokemon with High Speed Stats"
      ],
      "metadata": {
        "id": "zzMI02xrlDXX"
      }
    },
    {
      "cell_type": "code",
      "source": [
        "fast_poke = pokemon_data[pokemon_data['Speed'] > 110]\n",
        "fast_poke"
      ],
      "metadata": {
        "id": "H7LdOJ2pU6bi"
      },
      "execution_count": null,
      "outputs": []
    },
    {
      "cell_type": "code",
      "source": [
        "sns.barplot(data=fast_poke, x=\"Name\", y=\"Speed\")\n",
        "plt.xticks(rotation=90,fontsize=6)\n",
        "# Add labels and title\n",
        "plt.xlabel('Pokemon')\n",
        "plt.ylabel('Speed Stats')\n",
        "plt.title('The Fastest Pokemon')"
      ],
      "metadata": {
        "id": "q-yo8yBG0gvs"
      },
      "execution_count": null,
      "outputs": []
    }
  ]
}